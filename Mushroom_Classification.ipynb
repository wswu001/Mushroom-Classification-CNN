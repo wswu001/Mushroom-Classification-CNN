{
  "cells": [
    {
      "cell_type": "markdown",
      "metadata": {
        "id": "-cSLerdTSGqf"
      },
      "source": [
        "## Data Preprocessing"
      ]
    },
    {
      "cell_type": "markdown",
      "metadata": {
        "id": "fhuoonDpNVvJ"
      },
      "source": [
        "### Connect to drive"
      ]
    },
    {
      "cell_type": "code",
      "execution_count": null,
      "metadata": {
        "id": "zuLKx_M-R5vD"
      },
      "outputs": [],
      "source": [
        "import numpy as np\n",
        "import pandas as pd\n",
        "import tensorflow as tf\n",
        "import tensorflow_datasets as tfds"
      ]
    },
    {
      "cell_type": "code",
      "execution_count": null,
      "metadata": {
        "colab": {
          "base_uri": "https://localhost:8080/"
        },
        "id": "TU8Wrr-DnKsz",
        "outputId": "7b66c3ce-febd-4217-d3a7-cca73c0b1f6d"
      },
      "outputs": [
        {
          "name": "stdout",
          "output_type": "stream",
          "text": [
            "2.12.0\n"
          ]
        }
      ],
      "source": [
        "print(tf.__version__)"
      ]
    },
    {
      "cell_type": "code",
      "execution_count": null,
      "metadata": {
        "colab": {
          "base_uri": "https://localhost:8080/"
        },
        "id": "YIt6hp3PQ0tK",
        "outputId": "fc6810d1-5599-4608-978f-3fa6cb2b7527"
      },
      "outputs": [
        {
          "name": "stdout",
          "output_type": "stream",
          "text": [
            "Drive already mounted at /content/drive; to attempt to forcibly remount, call drive.mount(\"/content/drive\", force_remount=True).\n"
          ]
        }
      ],
      "source": [
        "from google.colab import drive\n",
        "drive.mount('/content/drive')"
      ]
    },
    {
      "cell_type": "code",
      "execution_count": null,
      "metadata": {
        "id": "byGzFd8mR56l"
      },
      "outputs": [],
      "source": [
        "# copy dataset from google drive to colab\n",
        "!cp ./drive/My\\ Drive/mushrooms.zip ./"
      ]
    },
    {
      "cell_type": "code",
      "execution_count": null,
      "metadata": {
        "id": "qeJjF3YhR59J"
      },
      "outputs": [],
      "source": [
        "# unzip dataset in colab\n",
        "!mkdir ./mushrooms\n",
        "!unzip -q mushrooms.zip -d ./mushrooms"
      ]
    },
    {
      "cell_type": "markdown",
      "metadata": {
        "id": "W4X4Gn0Jg5ll"
      },
      "source": [
        "### Combining Files"
      ]
    },
    {
      "cell_type": "code",
      "execution_count": null,
      "metadata": {
        "id": "G8WQC-Qeh7Td"
      },
      "outputs": [],
      "source": [
        "import os\n",
        "from shutil import copyfile"
      ]
    },
    {
      "cell_type": "code",
      "execution_count": null,
      "metadata": {
        "id": "ZHEtxEFBg3qA"
      },
      "outputs": [],
      "source": [
        "# use os.mkdir to create directories\n",
        "\n",
        "try:\n",
        "    os.mkdir('/content/temp')\n",
        "    os.mkdir('/content/temp/edible')\n",
        "    os.mkdir('/content/temp/poisonous') \n",
        "    \n",
        "except OSError:\n",
        "    pass"
      ]
    },
    {
      "cell_type": "code",
      "execution_count": null,
      "metadata": {
        "id": "P-FX5P1J37Fh"
      },
      "outputs": [],
      "source": [
        "# Don't run this! This is for Ming!\n",
        "Edible1Names = os.listdir(\"/content/mushrooms/mushrooms/edible mushroom sporocarp\")\n",
        "Edible2Names = os.listdir(\"/content/mushrooms/mushrooms/edible sporocarp\")\n",
        "Poisonous1Names = os.listdir(\"/content/mushrooms/mushrooms/poisonous mushroom sporocarp\")\n",
        "Poisonous2Names = os.listdir(\"/content/mushrooms/mushrooms/poisonous sporocarp\")"
      ]
    },
    {
      "cell_type": "code",
      "execution_count": null,
      "metadata": {
        "id": "S7sSd8ndlU6g"
      },
      "outputs": [],
      "source": [
        "Edible1Names = os.listdir(\"/content/mushrooms/edible mushroom sporocarp\")\n",
        "Edible2Names = os.listdir(\"/content/mushrooms/edible sporocarp\")\n",
        "Poisonous1Names = os.listdir(\"/content/mushrooms/poisonous mushroom sporocarp\")\n",
        "Poisonous2Names = os.listdir(\"/content/mushrooms/poisonous sporocarp\")"
      ]
    },
    {
      "cell_type": "code",
      "execution_count": null,
      "metadata": {
        "id": "v-jEs9v54cH4"
      },
      "outputs": [],
      "source": [
        "# Don't run this! This is for Ming!\n",
        "SOURCE1 = \"/content/mushrooms/mushrooms/edible mushroom sporocarp\"\n",
        "SOURCE2 = \"/content/mushrooms/mushrooms/edible sporocarp\"\n",
        "SOURCE3 = \"/content/mushrooms/mushrooms/poisonous mushroom sporocarp\"\n",
        "SOURCE4 = \"/content/mushrooms/mushrooms/poisonous sporocarp\""
      ]
    },
    {
      "cell_type": "code",
      "execution_count": null,
      "metadata": {
        "id": "yQZTYOPJ4jit"
      },
      "outputs": [],
      "source": [
        "SOURCE1 = \"/content/mushrooms/edible mushroom sporocarp\"\n",
        "SOURCE2 = \"/content/mushrooms/edible sporocarp\"\n",
        "SOURCE3 = \"/content/mushrooms/poisonous mushroom sporocarp\"\n",
        "SOURCE4 = \"/content/mushrooms/poisonous sporocarp\""
      ]
    },
    {
      "cell_type": "code",
      "execution_count": null,
      "metadata": {
        "id": "wRqMDgY4n11z"
      },
      "outputs": [],
      "source": [
        "for img in Edible1Names:\n",
        "  copyfile(os.path.join(SOURCE1,img),os.path.join('/content/temp/edible',img))\n",
        "\n",
        "for img in Edible2Names:\n",
        "  copyfile(os.path.join(SOURCE2,img),os.path.join('/content/temp/edible',img))\n",
        "\n",
        "for img in Poisonous1Names:\n",
        "  copyfile(os.path.join(SOURCE3,img),os.path.join('/content/temp/poisonous',img))\n",
        "\n",
        "for img in Poisonous2Names:\n",
        "  copyfile(os.path.join(SOURCE4,img),os.path.join('/content/temp/poisonous',img))"
      ]
    },
    {
      "cell_type": "code",
      "execution_count": null,
      "metadata": {
        "id": "oNnW_3nfnR2d"
      },
      "outputs": [],
      "source": [
        "import pathlib"
      ]
    },
    {
      "cell_type": "code",
      "execution_count": null,
      "metadata": {
        "colab": {
          "base_uri": "https://localhost:8080/"
        },
        "id": "j-kTfiOQm5Cx",
        "outputId": "3e573775-e9a7-4cd0-c7f8-b904dfab9a51"
      },
      "outputs": [
        {
          "name": "stdout",
          "output_type": "stream",
          "text": [
            "2\n",
            "3401\n",
            "['poisonous' 'edible']\n",
            "1181\n",
            "2220\n"
          ]
        }
      ],
      "source": [
        "data = pathlib.Path('/content/temp/') \n",
        "\n",
        "class_count = len(list(data.glob('*')))\n",
        "print(class_count)\n",
        "\n",
        "image_count = len(list(data.glob('*/*')))\n",
        "print(image_count)\n",
        "\n",
        "class_names = np.array([item.name for item in data.glob('*')])\n",
        "print(class_names)\n",
        "\n",
        "edible_count = len(list(data.glob('edible/*')))\n",
        "print(edible_count)\n",
        "\n",
        "poisonous_count = len(list(data.glob('poisonous/*')))\n",
        "print(poisonous_count)"
      ]
    },
    {
      "cell_type": "markdown",
      "metadata": {
        "id": "ohuokKGoPgeT"
      },
      "source": [
        "### Sampling and Splitting Data\n",
        "#### 1. training & testing"
      ]
    },
    {
      "cell_type": "code",
      "execution_count": null,
      "metadata": {
        "colab": {
          "base_uri": "https://localhost:8080/"
        },
        "id": "BThkU3jYSBAH",
        "outputId": "d0943a5d-fff8-4c42-e4a7-fbf3cf1b00a7"
      },
      "outputs": [
        {
          "name": "stdout",
          "output_type": "stream",
          "text": [
            "edible/all\n",
            "0.35\n",
            "poisonous/all\n",
            "0.65\n",
            "edible_size\n",
            "219\n",
            "poisonous_size\n",
            "406\n",
            "edible_training_size\n",
            "175\n",
            "edible_testing_size\n",
            "44\n",
            "poisonous_training_size\n",
            "325\n",
            "poisonous_testing_size\n",
            "81\n"
          ]
        }
      ],
      "source": [
        "training_size = 500 \n",
        "testing_size = round(training_size/0.8 - training_size)\n",
        "size = training_size + testing_size\n",
        "\n",
        "edible_pct = round(edible_count/image_count, 2)\n",
        "poisonous_pct = 1 - edible_pct\n",
        "\n",
        "print(\"edible/all\")\n",
        "print(edible_pct)\n",
        "print(\"poisonous/all\")\n",
        "print(poisonous_pct)\n",
        "\n",
        "edible_size = round(edible_pct * size)\n",
        "poisonous_size = round(poisonous_pct * size)\n",
        "\n",
        "print(\"edible_size\")\n",
        "print(edible_size)\n",
        "print(\"poisonous_size\")\n",
        "print(poisonous_size)\n",
        "\n",
        "training_edible_size = round(training_size * edible_pct)\n",
        "testing_edible_size = round(testing_size * edible_pct)\n",
        "\n",
        "print(\"edible_training_size\")\n",
        "print(training_edible_size)\n",
        "print(\"edible_testing_size\")\n",
        "print(testing_edible_size)\n",
        "\n",
        "training_poisonous_size = training_size - training_edible_size\n",
        "testing_poisonous_size = testing_size - testing_edible_size\n",
        "\n",
        "print(\"poisonous_training_size\")\n",
        "print(training_poisonous_size)\n",
        "print(\"poisonous_testing_size\")\n",
        "print(testing_poisonous_size)"
      ]
    },
    {
      "cell_type": "code",
      "execution_count": null,
      "metadata": {
        "id": "hcXHdKmo5tmF"
      },
      "outputs": [],
      "source": [
        "# updated ratios\n",
        "## training: 50/50\n",
        "## testing: 80/20\n",
        "training_edible_size = 250\n",
        "training_poisonous_size = 250\n",
        "testing_edible_size = 62 \n",
        "testing_poisonous_size = 63"
      ]
    },
    {
      "cell_type": "markdown",
      "metadata": {
        "id": "G_3jacE2PoKV"
      },
      "source": [
        "ref: https://colab.research.google.com/github/mxn170019/TensorFlow_Exercises/blob/master/image_splitting_directory_image_conv_Custom_testing_.ipynb"
      ]
    },
    {
      "cell_type": "code",
      "execution_count": null,
      "metadata": {
        "id": "zuo3IfbunP-l"
      },
      "outputs": [],
      "source": [
        "import random"
      ]
    },
    {
      "cell_type": "code",
      "execution_count": null,
      "metadata": {
        "id": "1MM08lVLaT_7"
      },
      "outputs": [],
      "source": [
        "try:\n",
        "    os.mkdir('/content/data')\n",
        "    os.mkdir('/content/data/training')\n",
        "    os.mkdir('/content/data/testing')\n",
        "    os.mkdir('/content/data/training/edible')\n",
        "    os.mkdir('/content/data/training/poisonous') \n",
        "    os.mkdir('/content/data/testing/edible')\n",
        "    os.mkdir('/content/data/testing/poisonous')\n",
        "    \n",
        "except OSError:\n",
        "    pass\n",
        "\n",
        "def split_data(SOURCE, TRAINING, TESTING, TRAINING_SIZE, TESTING_SIZE):\n",
        "  # a SOURCE directory containing the files\n",
        "  # a TRAINING directory that a portion of the files will be copied to\n",
        "  # a TESTING directory that a portion of the files will be copie to\n",
        "    allFileNames = os.listdir(SOURCE)\n",
        "    random.seed(221)\n",
        "    training = random.sample(allFileNames, TRAINING_SIZE)\n",
        "    testing = random.sample(list(set(allFileNames)-set(training)), TESTING_SIZE)\n",
        "    \n",
        "    for img in training:\n",
        "      if os.path.getsize(os.path.join(SOURCE,img)) <= 0:\n",
        "        print(img,' is zero length, so ignoring')\n",
        "      else:\n",
        "        copyfile(os.path.join(SOURCE,img),os.path.join(TRAINING,img))\n",
        "    for img in testing:\n",
        "      if os.path.getsize(os.path.join(SOURCE,img)) <= 0:\n",
        "        print(img,' is zero length, so ignoring')\n",
        "      else:\n",
        "        copyfile(os.path.join(SOURCE,img),os.path.join(TESTING,img))\n",
        "                       \n",
        "EDIBLE_SOURCE_DIR = \"/content/temp/edible/\"\n",
        "TRAINING_EDIBLE_DIR = \"/content/data/training/edible\"\n",
        "TESTING_EDIBLE_DIR = \"/content/data/testing/edible\"\n",
        "\n",
        "POISONOUS_SOURCE_DIR = \"/content/temp/poisonous/\"\n",
        "TRAINING_POISONOUS_DIR = \"/content/data/training/poisonous/\"\n",
        "TESTING_POISONOUS_DIR = \"/content/data/testing/poisonous/\" \n",
        "\n",
        "# training_edible_size\n",
        "# testing_edible_size\n",
        "# training_poisonous_size\n",
        "# testing_poisonous_size\n",
        "\n",
        "split_data(EDIBLE_SOURCE_DIR, TRAINING_EDIBLE_DIR, TESTING_EDIBLE_DIR, training_edible_size, testing_edible_size)\n",
        "split_data(POISONOUS_SOURCE_DIR, TRAINING_POISONOUS_DIR, TESTING_POISONOUS_DIR, training_poisonous_size, testing_poisonous_size)"
      ]
    },
    {
      "cell_type": "code",
      "execution_count": null,
      "metadata": {
        "colab": {
          "base_uri": "https://localhost:8080/"
        },
        "id": "r_YYxE42SBKA",
        "outputId": "d87045ef-781c-4e5a-8917-929c7fcf9eea"
      },
      "outputs": [
        {
          "name": "stdout",
          "output_type": "stream",
          "text": [
            "250\n",
            "62\n",
            "250\n",
            "63\n"
          ]
        }
      ],
      "source": [
        "print(len(os.listdir('/content/data/training/edible/')))\n",
        "print(len(os.listdir('/content/data/testing/edible')))\n",
        "print(len(os.listdir('/content/data/training/poisonous/')))\n",
        "print(len(os.listdir('/content/data/testing/poisonous/')))\n",
        "\n",
        "# Expections: 250, 62, 250, 62"
      ]
    },
    {
      "cell_type": "code",
      "execution_count": null,
      "metadata": {
        "colab": {
          "base_uri": "https://localhost:8080/"
        },
        "id": "KaekwOkqSBRY",
        "outputId": "26418670-cfbc-418e-c103-33bdbae40bef"
      },
      "outputs": [
        {
          "name": "stdout",
          "output_type": "stream",
          "text": [
            "500\n",
            "125\n",
            "['training' 'testing']\n"
          ]
        }
      ],
      "source": [
        "data = pathlib.Path('/content/data/') \n",
        "\n",
        "training_count = len(list(data.glob('training/*/*')))\n",
        "print(training_count)\n",
        "\n",
        "testing_count = len(list(data.glob('testing/*/*')))\n",
        "print(testing_count)\n",
        "\n",
        "class_names = np.array([item.name for item in data.glob('*')])\n",
        "print(class_names)"
      ]
    },
    {
      "cell_type": "markdown",
      "metadata": {
        "id": "Dm2eH2r57h33"
      },
      "source": [
        "#### 2. edible & poisonous"
      ]
    },
    {
      "cell_type": "code",
      "execution_count": null,
      "metadata": {
        "id": "_ht2Tw29zFPV"
      },
      "outputs": [],
      "source": [
        "try:\n",
        "    os.mkdir('/content/df')\n",
        "    os.mkdir('/content/df/edible')\n",
        "    os.mkdir('/content/df/poisonous')\n",
        "    \n",
        "except OSError:\n",
        "    pass\n",
        "\n",
        "def split_data2(SOURCE1, SOURCE2, CLASS1, CLASS2, CLASS1_SIZE, CLASS2_SIZE):\n",
        "  # a SOURCE directory containing the files\n",
        "  # a CLASS1 directory that a portion of the files will be copied to\n",
        "  # a CLASS2 directory that a portion of the files will be copie to\n",
        "    allFileNames1 = os.listdir(SOURCE1)\n",
        "    allFileNames2 = os.listdir(SOURCE2)\n",
        "    random.seed(221)\n",
        "    class1 = random.sample(allFileNames1, CLASS1_SIZE)\n",
        "    class2 = random.sample(allFileNames2, CLASS2_SIZE)\n",
        "    \n",
        "    for img in class1:\n",
        "      if os.path.getsize(os.path.join(SOURCE1,img)) <= 0:\n",
        "        print(img,' is zero length, so ignoring')\n",
        "      else:\n",
        "        copyfile(os.path.join(SOURCE1,img),os.path.join(CLASS1,img))\n",
        "    for img in class2:\n",
        "      if os.path.getsize(os.path.join(SOURCE2,img)) <= 0:\n",
        "        print(img,' is zero length, so ignoring')\n",
        "      else:\n",
        "        copyfile(os.path.join(SOURCE2,img),os.path.join(CLASS2,img))\n",
        "                       \n",
        "EDIBLE_SOURCE_DIR = \"/content/temp/edible/\"\n",
        "EDIBLE_DIR = \"/content/df/edible\"\n",
        "\n",
        "POISONOUS_SOURCE_DIR = \"/content/temp/poisonous/\"\n",
        "POISONOUS_DIR = \"/content/df/poisonous/\" \n",
        "\n",
        "# edible_size\n",
        "# poisonous_size\n",
        "\n",
        "split_data2(EDIBLE_SOURCE_DIR, POISONOUS_SOURCE_DIR, EDIBLE_DIR, POISONOUS_DIR, edible_size, poisonous_size)"
      ]
    },
    {
      "cell_type": "code",
      "execution_count": null,
      "metadata": {
        "colab": {
          "base_uri": "https://localhost:8080/"
        },
        "id": "LX8ZS24_zFXK",
        "outputId": "e10f2e62-d3b7-48ae-ffa4-a11510726339"
      },
      "outputs": [
        {
          "name": "stdout",
          "output_type": "stream",
          "text": [
            "219\n",
            "406\n",
            "['poisonous' 'edible']\n"
          ]
        }
      ],
      "source": [
        "data = pathlib.Path('/content/df/') \n",
        "\n",
        "edible_count = len(list(data.glob('edible/*')))\n",
        "print(edible_count)\n",
        "\n",
        "poisonous_count = len(list(data.glob('poisonous/*')))\n",
        "print(poisonous_count)\n",
        "\n",
        "class_names = np.array([item.name for item in data.glob('*')])\n",
        "print(class_names)\n",
        "\n",
        "# Expections: 219, 406"
      ]
    },
    {
      "cell_type": "code",
      "execution_count": null,
      "metadata": {
        "id": "XCA4jJlPSBT6"
      },
      "outputs": [],
      "source": [
        "%rm -rf mushrooms.zip\n",
        "%rm -rf mushrooms"
      ]
    },
    {
      "cell_type": "markdown",
      "metadata": {
        "id": "8RzEm8f25Cit"
      },
      "source": [
        "### Converting to Matrices"
      ]
    },
    {
      "cell_type": "code",
      "execution_count": null,
      "metadata": {
        "id": "6EWSs_jYe-8X"
      },
      "outputs": [],
      "source": [
        "from PIL import Image\n",
        "import matplotlib.pyplot as plt"
      ]
    },
    {
      "cell_type": "code",
      "execution_count": null,
      "metadata": {
        "id": "L1ad94EZ519r"
      },
      "outputs": [],
      "source": [
        "TrainESource = \"/content/data/training/edible/\"\n",
        "TrainPSource = \"/content/data/training/poisonous/\"\n",
        "TestESource = \"/content/data/testing/edible/\"\n",
        "TestPSource = \"/content/data/testing/poisonous/\""
      ]
    },
    {
      "cell_type": "code",
      "execution_count": null,
      "metadata": {
        "id": "q2JfZRTue_bY"
      },
      "outputs": [],
      "source": [
        "# Convert to RGB data\n",
        "def image2matrices(source, label, width=200, height=200):\n",
        "    '''\n",
        "    Convert images to numpy array\n",
        "        - source: the path of directory\n",
        "        - label: \"edible\" or \"poisonous\"\n",
        "    - width, height: size to rescale image\n",
        "    '''\n",
        "  \n",
        "    name_list = os.listdir(source)\n",
        "    flattened_arrays = []\n",
        "\n",
        "    for image_name in name_list:\n",
        "        # obtain each image and resize\n",
        "        image_path = os.path.join(source, image_name)\n",
        "        image = Image.open(image_path)\n",
        "        image = image.convert('RGB')  # ensure 3-channel RGB\n",
        "        scaled_image = image.resize((width, height))\n",
        "        # convert to numpy array, normalize and flatten it\n",
        "        image_array = np.array(scaled_image)\n",
        "        normalized_array = image_array / 255.0\n",
        "        flattened_array = normalized_array.reshape(-1)\n",
        "\n",
        "        # save each array\n",
        "        flattened_arrays.append(flattened_array)\n",
        "\n",
        "    # add zero to ensure same length in each array\n",
        "    max_length = max(len(arr) for arr in flattened_arrays)\n",
        "    padded_arrays = [np.pad(arr, (0, max_length - len(arr)), mode='constant') for arr in flattened_arrays]\n",
        "\n",
        "    # convert to matrix and create Y matrix\n",
        "    X_matrix = np.vstack(padded_arrays)\n",
        "    Y_matrix = np.full((X_matrix.shape[0], 1), label)\n",
        "\n",
        "    return X_matrix, Y_matrix"
      ]
    },
    {
      "cell_type": "code",
      "execution_count": null,
      "metadata": {
        "id": "UbsYDKCogSdY"
      },
      "outputs": [],
      "source": [
        "X_train_edible, Y_train_edible = image2matrices(TrainESource, \"edible\")\n",
        "X_train_poisonous, Y_train_poisonous = image2matrices(TrainPSource, \"poisonous\")\n",
        "X_test_edible, Y_test_edible = image2matrices(TestESource, \"edible\")\n",
        "X_test_poisonous, Y_test_poisonous = image2matrices(TestPSource, \"poisonous\")"
      ]
    },
    {
      "cell_type": "code",
      "execution_count": null,
      "metadata": {
        "id": "Xx178K8dgT_Y"
      },
      "outputs": [],
      "source": [
        "X_train = np.vstack((X_train_edible, X_train_poisonous))\n",
        "X_test = np.vstack((X_test_edible, X_test_poisonous))\n",
        "Y_train = np.vstack((Y_train_edible, Y_train_poisonous))\n",
        "Y_test = np.vstack((Y_test_edible, Y_test_poisonous))"
      ]
    },
    {
      "cell_type": "code",
      "execution_count": null,
      "metadata": {
        "id": "kTRzdbRtoiFf"
      },
      "outputs": [],
      "source": [
        "# for later use\n",
        "y_test = Y_test\n",
        "import pandas as pd\n",
        "y_test = np.where(y_test == 'poisonous', 1, 0)\n",
        "y_test = np.array(pd.DataFrame(y_test)[0])"
      ]
    },
    {
      "cell_type": "code",
      "execution_count": null,
      "metadata": {
        "colab": {
          "base_uri": "https://localhost:8080/"
        },
        "id": "6oqpNfXWgXon",
        "outputId": "4093b097-4fb7-491b-a98c-206613c1570f"
      },
      "outputs": [
        {
          "name": "stdout",
          "output_type": "stream",
          "text": [
            "(500, 120000)\n",
            "(500, 1)\n",
            "(125, 120000)\n",
            "(125, 1)\n"
          ]
        }
      ],
      "source": [
        "print(X_train.shape)  # n=500 p=200*200*3\n",
        "print(Y_train.shape)  # n=500 p=1\n",
        "print(X_test.shape)   # n=125 p=200*200*3\n",
        "print(Y_test.shape)   # n=125 p=1"
      ]
    },
    {
      "cell_type": "markdown",
      "metadata": {
        "id": "GP4JKz-j8s7e"
      },
      "source": [
        "## Data Analysis"
      ]
    },
    {
      "cell_type": "markdown",
      "metadata": {
        "id": "wMHq__LNgxio"
      },
      "source": [
        "### Random Forest"
      ]
    },
    {
      "cell_type": "code",
      "execution_count": null,
      "metadata": {
        "id": "HV0_WIZ4hH5U"
      },
      "outputs": [],
      "source": [
        "from sklearn.ensemble import RandomForestClassifier\n",
        "from sklearn.model_selection import cross_val_score\n",
        "from sklearn.model_selection import GridSearchCV\n",
        "from sklearn.metrics import confusion_matrix\n",
        "from sklearn.metrics import accuracy_score\n",
        "from sklearn.metrics import classification_report"
      ]
    },
    {
      "cell_type": "code",
      "execution_count": null,
      "metadata": {
        "colab": {
          "base_uri": "https://localhost:8080/"
        },
        "id": "uTgEu9Btg0EW",
        "outputId": "7ada230b-2b90-4399-8f25-280fe8580943"
      },
      "outputs": [
        {
          "name": "stdout",
          "output_type": "stream",
          "text": [
            "Accuracy of Random Forest classifier on training set: 1.000\n"
          ]
        }
      ],
      "source": [
        "# create random forest classifier\n",
        "## initiate model\n",
        "rf_classifier = RandomForestClassifier(random_state=2023)\n",
        "## train model\n",
        "rf_classifier.fit(X_train, Y_train.ravel())\n",
        "## accuracy on training set\n",
        "rf_accuracy = rf_classifier.score(X_train, Y_train.ravel())\n",
        "\n",
        "print('Accuracy of Random Forest classifier on training set: {:.3f}'.format(rf_accuracy))"
      ]
    },
    {
      "cell_type": "markdown",
      "metadata": {
        "id": "fo3o1efYC_DM"
      },
      "source": [
        "#### Grid Search for Optimal Hyperparameters"
      ]
    },
    {
      "cell_type": "code",
      "execution_count": null,
      "metadata": {
        "id": "9iyhnghECr0p"
      },
      "outputs": [],
      "source": [
        "# helper function for printing out grid search results \n",
        "def print_grid_search_metrics(gs):\n",
        "    print (\"Best score: \" + str(gs.best_score_))\n",
        "    print (\"Best parameters set:\")\n",
        "    best_parameters = gs.best_params_\n",
        "    for param_name in sorted(best_parameters.keys()):\n",
        "        print(param_name + ':' + str(best_parameters[param_name]))"
      ]
    },
    {
      "cell_type": "code",
      "execution_count": null,
      "metadata": {
        "id": "J0uoiHwQCtaz"
      },
      "outputs": [],
      "source": [
        "# define parameters\n",
        "parameters = {\n",
        "    'n_estimators': (50, 100, 200),\n",
        "    'max_samples': (50, 100, 200),\n",
        "    'max_features': ('sqrt', 'log2'),\n",
        "    'criterion': ('entropy', 'gini', 'log_loss')\n",
        "}   "
      ]
    },
    {
      "cell_type": "code",
      "execution_count": null,
      "metadata": {
        "colab": {
          "base_uri": "https://localhost:8080/",
          "height": 116
        },
        "id": "gXw4FtR_Cumb",
        "outputId": "fc98c507-a521-47bf-baee-208b3b35a897"
      },
      "outputs": [
        {
          "data": {
            "text/html": [
              "<style>#sk-container-id-1 {color: black;background-color: white;}#sk-container-id-1 pre{padding: 0;}#sk-container-id-1 div.sk-toggleable {background-color: white;}#sk-container-id-1 label.sk-toggleable__label {cursor: pointer;display: block;width: 100%;margin-bottom: 0;padding: 0.3em;box-sizing: border-box;text-align: center;}#sk-container-id-1 label.sk-toggleable__label-arrow:before {content: \"▸\";float: left;margin-right: 0.25em;color: #696969;}#sk-container-id-1 label.sk-toggleable__label-arrow:hover:before {color: black;}#sk-container-id-1 div.sk-estimator:hover label.sk-toggleable__label-arrow:before {color: black;}#sk-container-id-1 div.sk-toggleable__content {max-height: 0;max-width: 0;overflow: hidden;text-align: left;background-color: #f0f8ff;}#sk-container-id-1 div.sk-toggleable__content pre {margin: 0.2em;color: black;border-radius: 0.25em;background-color: #f0f8ff;}#sk-container-id-1 input.sk-toggleable__control:checked~div.sk-toggleable__content {max-height: 200px;max-width: 100%;overflow: auto;}#sk-container-id-1 input.sk-toggleable__control:checked~label.sk-toggleable__label-arrow:before {content: \"▾\";}#sk-container-id-1 div.sk-estimator input.sk-toggleable__control:checked~label.sk-toggleable__label {background-color: #d4ebff;}#sk-container-id-1 div.sk-label input.sk-toggleable__control:checked~label.sk-toggleable__label {background-color: #d4ebff;}#sk-container-id-1 input.sk-hidden--visually {border: 0;clip: rect(1px 1px 1px 1px);clip: rect(1px, 1px, 1px, 1px);height: 1px;margin: -1px;overflow: hidden;padding: 0;position: absolute;width: 1px;}#sk-container-id-1 div.sk-estimator {font-family: monospace;background-color: #f0f8ff;border: 1px dotted black;border-radius: 0.25em;box-sizing: border-box;margin-bottom: 0.5em;}#sk-container-id-1 div.sk-estimator:hover {background-color: #d4ebff;}#sk-container-id-1 div.sk-parallel-item::after {content: \"\";width: 100%;border-bottom: 1px solid gray;flex-grow: 1;}#sk-container-id-1 div.sk-label:hover label.sk-toggleable__label {background-color: #d4ebff;}#sk-container-id-1 div.sk-serial::before {content: \"\";position: absolute;border-left: 1px solid gray;box-sizing: border-box;top: 0;bottom: 0;left: 50%;z-index: 0;}#sk-container-id-1 div.sk-serial {display: flex;flex-direction: column;align-items: center;background-color: white;padding-right: 0.2em;padding-left: 0.2em;position: relative;}#sk-container-id-1 div.sk-item {position: relative;z-index: 1;}#sk-container-id-1 div.sk-parallel {display: flex;align-items: stretch;justify-content: center;background-color: white;position: relative;}#sk-container-id-1 div.sk-item::before, #sk-container-id-1 div.sk-parallel-item::before {content: \"\";position: absolute;border-left: 1px solid gray;box-sizing: border-box;top: 0;bottom: 0;left: 50%;z-index: -1;}#sk-container-id-1 div.sk-parallel-item {display: flex;flex-direction: column;z-index: 1;position: relative;background-color: white;}#sk-container-id-1 div.sk-parallel-item:first-child::after {align-self: flex-end;width: 50%;}#sk-container-id-1 div.sk-parallel-item:last-child::after {align-self: flex-start;width: 50%;}#sk-container-id-1 div.sk-parallel-item:only-child::after {width: 0;}#sk-container-id-1 div.sk-dashed-wrapped {border: 1px dashed gray;margin: 0 0.4em 0.5em 0.4em;box-sizing: border-box;padding-bottom: 0.4em;background-color: white;}#sk-container-id-1 div.sk-label label {font-family: monospace;font-weight: bold;display: inline-block;line-height: 1.2em;}#sk-container-id-1 div.sk-label-container {text-align: center;}#sk-container-id-1 div.sk-container {/* jupyter's `normalize.less` sets `[hidden] { display: none; }` but bootstrap.min.css set `[hidden] { display: none !important; }` so we also need the `!important` here to be able to override the default hidden behavior on the sphinx rendered scikit-learn.org. See: https://github.com/scikit-learn/scikit-learn/issues/21755 */display: inline-block !important;position: relative;}#sk-container-id-1 div.sk-text-repr-fallback {display: none;}</style><div id=\"sk-container-id-1\" class=\"sk-top-container\"><div class=\"sk-text-repr-fallback\"><pre>GridSearchCV(cv=5, estimator=RandomForestClassifier(random_state=2023),\n",
              "             param_grid={&#x27;criterion&#x27;: (&#x27;entropy&#x27;, &#x27;gini&#x27;, &#x27;log_loss&#x27;),\n",
              "                         &#x27;max_features&#x27;: (&#x27;sqrt&#x27;, &#x27;log2&#x27;),\n",
              "                         &#x27;max_samples&#x27;: (50, 100, 200),\n",
              "                         &#x27;n_estimators&#x27;: (50, 100, 200)})</pre><b>In a Jupyter environment, please rerun this cell to show the HTML representation or trust the notebook. <br />On GitHub, the HTML representation is unable to render, please try loading this page with nbviewer.org.</b></div><div class=\"sk-container\" hidden><div class=\"sk-item sk-dashed-wrapped\"><div class=\"sk-label-container\"><div class=\"sk-label sk-toggleable\"><input class=\"sk-toggleable__control sk-hidden--visually\" id=\"sk-estimator-id-1\" type=\"checkbox\" ><label for=\"sk-estimator-id-1\" class=\"sk-toggleable__label sk-toggleable__label-arrow\">GridSearchCV</label><div class=\"sk-toggleable__content\"><pre>GridSearchCV(cv=5, estimator=RandomForestClassifier(random_state=2023),\n",
              "             param_grid={&#x27;criterion&#x27;: (&#x27;entropy&#x27;, &#x27;gini&#x27;, &#x27;log_loss&#x27;),\n",
              "                         &#x27;max_features&#x27;: (&#x27;sqrt&#x27;, &#x27;log2&#x27;),\n",
              "                         &#x27;max_samples&#x27;: (50, 100, 200),\n",
              "                         &#x27;n_estimators&#x27;: (50, 100, 200)})</pre></div></div></div><div class=\"sk-parallel\"><div class=\"sk-parallel-item\"><div class=\"sk-item\"><div class=\"sk-label-container\"><div class=\"sk-label sk-toggleable\"><input class=\"sk-toggleable__control sk-hidden--visually\" id=\"sk-estimator-id-2\" type=\"checkbox\" ><label for=\"sk-estimator-id-2\" class=\"sk-toggleable__label sk-toggleable__label-arrow\">estimator: RandomForestClassifier</label><div class=\"sk-toggleable__content\"><pre>RandomForestClassifier(random_state=2023)</pre></div></div></div><div class=\"sk-serial\"><div class=\"sk-item\"><div class=\"sk-estimator sk-toggleable\"><input class=\"sk-toggleable__control sk-hidden--visually\" id=\"sk-estimator-id-3\" type=\"checkbox\" ><label for=\"sk-estimator-id-3\" class=\"sk-toggleable__label sk-toggleable__label-arrow\">RandomForestClassifier</label><div class=\"sk-toggleable__content\"><pre>RandomForestClassifier(random_state=2023)</pre></div></div></div></div></div></div></div></div></div></div>"
            ],
            "text/plain": [
              "GridSearchCV(cv=5, estimator=RandomForestClassifier(random_state=2023),\n",
              "             param_grid={'criterion': ('entropy', 'gini', 'log_loss'),\n",
              "                         'max_features': ('sqrt', 'log2'),\n",
              "                         'max_samples': (50, 100, 200),\n",
              "                         'n_estimators': (50, 100, 200)})"
            ]
          },
          "execution_count": 47,
          "metadata": {},
          "output_type": "execute_result"
        }
      ],
      "source": [
        "# Search for optimal hyperparameters\n",
        "Grid_RF = GridSearchCV(RandomForestClassifier(random_state=2023), parameters, cv=5)\n",
        "\n",
        "Grid_RF.fit(X_train, Y_train.ravel())"
      ]
    },
    {
      "cell_type": "code",
      "execution_count": null,
      "metadata": {
        "colab": {
          "base_uri": "https://localhost:8080/"
        },
        "id": "f9GsnLYfD9E3",
        "outputId": "beab81ed-384e-43e4-a8e3-02ffd8975875"
      },
      "outputs": [
        {
          "name": "stdout",
          "output_type": "stream",
          "text": [
            "Best score: 0.606\n",
            "Best parameters set:\n",
            "criterion:gini\n",
            "max_features:sqrt\n",
            "max_samples:200\n",
            "n_estimators:200\n"
          ]
        }
      ],
      "source": [
        "print_grid_search_metrics(Grid_RF)"
      ]
    },
    {
      "cell_type": "code",
      "execution_count": null,
      "metadata": {
        "id": "iotZ2kzpD98w"
      },
      "outputs": [],
      "source": [
        "# best model\n",
        "best_RF_model = Grid_RF.best_estimator_\n",
        "\n",
        "# predict outcomes on testing set\n",
        "rf_Y_pred = best_RF_model.predict(X_test)"
      ]
    },
    {
      "cell_type": "code",
      "execution_count": null,
      "metadata": {
        "colab": {
          "base_uri": "https://localhost:8080/"
        },
        "id": "aC9zMveVSBZH",
        "outputId": "f7249f6a-5463-4056-9ec0-7e428d4a6c44"
      },
      "outputs": [
        {
          "name": "stdout",
          "output_type": "stream",
          "text": [
            "Accuracy: 0.648\n"
          ]
        }
      ],
      "source": [
        "# calculate accuracy\n",
        "rf_accuracy = accuracy_score(Y_test, rf_Y_pred)\n",
        "print(\"Accuracy:\", rf_accuracy)"
      ]
    },
    {
      "cell_type": "code",
      "execution_count": null,
      "metadata": {
        "colab": {
          "base_uri": "https://localhost:8080/"
        },
        "id": "gGa_g8S7SBbj",
        "outputId": "b05c28a9-223c-4180-d9a0-56fc9eb7c34f"
      },
      "outputs": [
        {
          "name": "stdout",
          "output_type": "stream",
          "text": [
            "Classification Report:\n",
            "               precision    recall  f1-score   support\n",
            "\n",
            "      edible       0.63      0.69      0.66        62\n",
            "   poisonous       0.67      0.60      0.63        63\n",
            "\n",
            "    accuracy                           0.65       125\n",
            "   macro avg       0.65      0.65      0.65       125\n",
            "weighted avg       0.65      0.65      0.65       125\n",
            "\n"
          ]
        }
      ],
      "source": [
        "# obtain results\n",
        "rf_report = classification_report(Y_test, rf_Y_pred)\n",
        "print(\"Classification Report:\\n\", rf_report)"
      ]
    },
    {
      "cell_type": "markdown",
      "metadata": {
        "id": "LeqTWbbwLvUL"
      },
      "source": [
        "### Kernel SVM"
      ]
    },
    {
      "cell_type": "code",
      "execution_count": null,
      "metadata": {
        "id": "MkQpWEN2NcBm"
      },
      "outputs": [],
      "source": [
        "from sklearn.svm import SVC"
      ]
    },
    {
      "cell_type": "code",
      "execution_count": null,
      "metadata": {
        "colab": {
          "base_uri": "https://localhost:8080/"
        },
        "id": "plMErKZINcGO",
        "outputId": "8e443828-35ea-49b4-a705-5e1034450d81"
      },
      "outputs": [
        {
          "name": "stdout",
          "output_type": "stream",
          "text": [
            "Accuracy of SVM classifier on training set: 0.940\n"
          ]
        }
      ],
      "source": [
        "# create svm classifier\n",
        "## initiate model\n",
        "svm_classifier = SVC(random_state=2023)  \n",
        "### default: kernel='rbf'\n",
        "\n",
        "## train model\n",
        "svm_classifier.fit(X_train, Y_train.ravel())\n",
        "\n",
        "## accuracy on training set\n",
        "svm_accuracy = svm_classifier.score(X_train, Y_train.ravel())\n",
        "\n",
        "print('Accuracy of SVM classifier on training set: {:.3f}'.format(svm_accuracy))"
      ]
    },
    {
      "cell_type": "markdown",
      "metadata": {
        "id": "QPdMt-ZAPkG3"
      },
      "source": [
        "#### Grid Search for Optimal Hyperparameters"
      ]
    },
    {
      "cell_type": "code",
      "execution_count": null,
      "metadata": {
        "id": "K44rmDDMNcLL"
      },
      "outputs": [],
      "source": [
        "# define parameters\n",
        "parameters = {\n",
        "    'C': (0.1, 1, 10),\n",
        "    'gamma': (1, 0.1, 0.01),\n",
        "    'kernel': ('rbf', 'poly', 'sigmoid')\n",
        "    #'degree': (3, 5, 7, 9)\n",
        "}"
      ]
    },
    {
      "cell_type": "code",
      "execution_count": null,
      "metadata": {
        "colab": {
          "base_uri": "https://localhost:8080/"
        },
        "id": "BFM_wt0ANcUL",
        "outputId": "a73d364b-3a83-4faf-f045-a00f4e0f11a3"
      },
      "outputs": [
        {
          "data": {
            "text/html": [
              "<style>#sk-container-id-2 {color: black;background-color: white;}#sk-container-id-2 pre{padding: 0;}#sk-container-id-2 div.sk-toggleable {background-color: white;}#sk-container-id-2 label.sk-toggleable__label {cursor: pointer;display: block;width: 100%;margin-bottom: 0;padding: 0.3em;box-sizing: border-box;text-align: center;}#sk-container-id-2 label.sk-toggleable__label-arrow:before {content: \"▸\";float: left;margin-right: 0.25em;color: #696969;}#sk-container-id-2 label.sk-toggleable__label-arrow:hover:before {color: black;}#sk-container-id-2 div.sk-estimator:hover label.sk-toggleable__label-arrow:before {color: black;}#sk-container-id-2 div.sk-toggleable__content {max-height: 0;max-width: 0;overflow: hidden;text-align: left;background-color: #f0f8ff;}#sk-container-id-2 div.sk-toggleable__content pre {margin: 0.2em;color: black;border-radius: 0.25em;background-color: #f0f8ff;}#sk-container-id-2 input.sk-toggleable__control:checked~div.sk-toggleable__content {max-height: 200px;max-width: 100%;overflow: auto;}#sk-container-id-2 input.sk-toggleable__control:checked~label.sk-toggleable__label-arrow:before {content: \"▾\";}#sk-container-id-2 div.sk-estimator input.sk-toggleable__control:checked~label.sk-toggleable__label {background-color: #d4ebff;}#sk-container-id-2 div.sk-label input.sk-toggleable__control:checked~label.sk-toggleable__label {background-color: #d4ebff;}#sk-container-id-2 input.sk-hidden--visually {border: 0;clip: rect(1px 1px 1px 1px);clip: rect(1px, 1px, 1px, 1px);height: 1px;margin: -1px;overflow: hidden;padding: 0;position: absolute;width: 1px;}#sk-container-id-2 div.sk-estimator {font-family: monospace;background-color: #f0f8ff;border: 1px dotted black;border-radius: 0.25em;box-sizing: border-box;margin-bottom: 0.5em;}#sk-container-id-2 div.sk-estimator:hover {background-color: #d4ebff;}#sk-container-id-2 div.sk-parallel-item::after {content: \"\";width: 100%;border-bottom: 1px solid gray;flex-grow: 1;}#sk-container-id-2 div.sk-label:hover label.sk-toggleable__label {background-color: #d4ebff;}#sk-container-id-2 div.sk-serial::before {content: \"\";position: absolute;border-left: 1px solid gray;box-sizing: border-box;top: 0;bottom: 0;left: 50%;z-index: 0;}#sk-container-id-2 div.sk-serial {display: flex;flex-direction: column;align-items: center;background-color: white;padding-right: 0.2em;padding-left: 0.2em;position: relative;}#sk-container-id-2 div.sk-item {position: relative;z-index: 1;}#sk-container-id-2 div.sk-parallel {display: flex;align-items: stretch;justify-content: center;background-color: white;position: relative;}#sk-container-id-2 div.sk-item::before, #sk-container-id-2 div.sk-parallel-item::before {content: \"\";position: absolute;border-left: 1px solid gray;box-sizing: border-box;top: 0;bottom: 0;left: 50%;z-index: -1;}#sk-container-id-2 div.sk-parallel-item {display: flex;flex-direction: column;z-index: 1;position: relative;background-color: white;}#sk-container-id-2 div.sk-parallel-item:first-child::after {align-self: flex-end;width: 50%;}#sk-container-id-2 div.sk-parallel-item:last-child::after {align-self: flex-start;width: 50%;}#sk-container-id-2 div.sk-parallel-item:only-child::after {width: 0;}#sk-container-id-2 div.sk-dashed-wrapped {border: 1px dashed gray;margin: 0 0.4em 0.5em 0.4em;box-sizing: border-box;padding-bottom: 0.4em;background-color: white;}#sk-container-id-2 div.sk-label label {font-family: monospace;font-weight: bold;display: inline-block;line-height: 1.2em;}#sk-container-id-2 div.sk-label-container {text-align: center;}#sk-container-id-2 div.sk-container {/* jupyter's `normalize.less` sets `[hidden] { display: none; }` but bootstrap.min.css set `[hidden] { display: none !important; }` so we also need the `!important` here to be able to override the default hidden behavior on the sphinx rendered scikit-learn.org. See: https://github.com/scikit-learn/scikit-learn/issues/21755 */display: inline-block !important;position: relative;}#sk-container-id-2 div.sk-text-repr-fallback {display: none;}</style><div id=\"sk-container-id-2\" class=\"sk-top-container\"><div class=\"sk-text-repr-fallback\"><pre>GridSearchCV(cv=5, estimator=SVC(random_state=2023),\n",
              "             param_grid={&#x27;C&#x27;: (0.1, 1, 10), &#x27;gamma&#x27;: (1, 0.1, 0.01),\n",
              "                         &#x27;kernel&#x27;: (&#x27;rbf&#x27;, &#x27;poly&#x27;, &#x27;sigmoid&#x27;)})</pre><b>In a Jupyter environment, please rerun this cell to show the HTML representation or trust the notebook. <br />On GitHub, the HTML representation is unable to render, please try loading this page with nbviewer.org.</b></div><div class=\"sk-container\" hidden><div class=\"sk-item sk-dashed-wrapped\"><div class=\"sk-label-container\"><div class=\"sk-label sk-toggleable\"><input class=\"sk-toggleable__control sk-hidden--visually\" id=\"sk-estimator-id-4\" type=\"checkbox\" ><label for=\"sk-estimator-id-4\" class=\"sk-toggleable__label sk-toggleable__label-arrow\">GridSearchCV</label><div class=\"sk-toggleable__content\"><pre>GridSearchCV(cv=5, estimator=SVC(random_state=2023),\n",
              "             param_grid={&#x27;C&#x27;: (0.1, 1, 10), &#x27;gamma&#x27;: (1, 0.1, 0.01),\n",
              "                         &#x27;kernel&#x27;: (&#x27;rbf&#x27;, &#x27;poly&#x27;, &#x27;sigmoid&#x27;)})</pre></div></div></div><div class=\"sk-parallel\"><div class=\"sk-parallel-item\"><div class=\"sk-item\"><div class=\"sk-label-container\"><div class=\"sk-label sk-toggleable\"><input class=\"sk-toggleable__control sk-hidden--visually\" id=\"sk-estimator-id-5\" type=\"checkbox\" ><label for=\"sk-estimator-id-5\" class=\"sk-toggleable__label sk-toggleable__label-arrow\">estimator: SVC</label><div class=\"sk-toggleable__content\"><pre>SVC(random_state=2023)</pre></div></div></div><div class=\"sk-serial\"><div class=\"sk-item\"><div class=\"sk-estimator sk-toggleable\"><input class=\"sk-toggleable__control sk-hidden--visually\" id=\"sk-estimator-id-6\" type=\"checkbox\" ><label for=\"sk-estimator-id-6\" class=\"sk-toggleable__label sk-toggleable__label-arrow\">SVC</label><div class=\"sk-toggleable__content\"><pre>SVC(random_state=2023)</pre></div></div></div></div></div></div></div></div></div></div>"
            ],
            "text/plain": [
              "GridSearchCV(cv=5, estimator=SVC(random_state=2023),\n",
              "             param_grid={'C': (0.1, 1, 10), 'gamma': (1, 0.1, 0.01),\n",
              "                         'kernel': ('rbf', 'poly', 'sigmoid')})"
            ]
          },
          "execution_count": 55,
          "metadata": {},
          "output_type": "execute_result"
        }
      ],
      "source": [
        "# Search for optimal hyperparameters\n",
        "Grid_SVM = GridSearchCV(SVC(random_state=2023), parameters, cv=5)\n",
        "\n",
        "Grid_SVM.fit(X_train, Y_train.ravel())"
      ]
    },
    {
      "cell_type": "code",
      "execution_count": null,
      "metadata": {
        "id": "gC-SDeK8NcWx"
      },
      "outputs": [],
      "source": [
        "#print_grid_search_metrics(Grid_SVM)"
      ]
    },
    {
      "cell_type": "code",
      "execution_count": null,
      "metadata": {
        "colab": {
          "base_uri": "https://localhost:8080/"
        },
        "id": "y3XYhCbktDZP",
        "outputId": "da6879a1-c8a0-4d65-fe90-e03681442ea9"
      },
      "outputs": [
        {
          "name": "stdout",
          "output_type": "stream",
          "text": [
            "Best score: 0.552\n",
            "Best parameters: {'C': 0.1, 'gamma': 1, 'kernel': 'poly'}\n"
          ]
        }
      ],
      "source": [
        "print(\"Best score: \" + str(Grid_SVM.best_score_))\n",
        "print(\"Best parameters: \"+ str(Grid_SVM.best_params_))"
      ]
    },
    {
      "cell_type": "code",
      "execution_count": null,
      "metadata": {
        "id": "_ArQ54g3NcZI"
      },
      "outputs": [],
      "source": [
        "# best model\n",
        "best_SVM_model = Grid_SVM.best_estimator_\n",
        "\n",
        "# predict outcomes on testing set\n",
        "svm_Y_pred = best_SVM_model.predict(X_test)"
      ]
    },
    {
      "cell_type": "code",
      "execution_count": null,
      "metadata": {
        "colab": {
          "base_uri": "https://localhost:8080/"
        },
        "id": "WL7pecwcNccI",
        "outputId": "ebd502c9-4fbb-4671-ef0f-9170ca0ed012"
      },
      "outputs": [
        {
          "name": "stdout",
          "output_type": "stream",
          "text": [
            "Accuracy: 0.656\n"
          ]
        }
      ],
      "source": [
        "# calculate accuracy\n",
        "svm_accuracy = accuracy_score(Y_test, svm_Y_pred)\n",
        "print(\"Accuracy:\", svm_accuracy)"
      ]
    },
    {
      "cell_type": "code",
      "execution_count": null,
      "metadata": {
        "colab": {
          "base_uri": "https://localhost:8080/"
        },
        "id": "obtHKlTrNcex",
        "outputId": "943287b1-b394-494c-f777-ad11a9417415"
      },
      "outputs": [
        {
          "name": "stdout",
          "output_type": "stream",
          "text": [
            "Classification Report:\n",
            "               precision    recall  f1-score   support\n",
            "\n",
            "      edible       0.67      0.61      0.64        62\n",
            "   poisonous       0.65      0.70      0.67        63\n",
            "\n",
            "    accuracy                           0.66       125\n",
            "   macro avg       0.66      0.66      0.66       125\n",
            "weighted avg       0.66      0.66      0.66       125\n",
            "\n"
          ]
        }
      ],
      "source": [
        "# obtain results\n",
        "svm_report = classification_report(Y_test, svm_Y_pred)\n",
        "print(\"Classification Report:\\n\", svm_report)"
      ]
    },
    {
      "cell_type": "markdown",
      "metadata": {
        "id": "T9K1bQVfnz1N"
      },
      "source": [
        "### CNN\n",
        "\n"
      ]
    },
    {
      "cell_type": "code",
      "execution_count": null,
      "metadata": {
        "id": "qnsut1a8LCSv"
      },
      "outputs": [],
      "source": [
        "from tensorflow.keras.models import Sequential\n",
        "from tensorflow.keras.layers import Conv2D, MaxPooling2D, Flatten, Dropout, Dense\n",
        "from tensorflow.keras.optimizers import Adam"
      ]
    },
    {
      "cell_type": "code",
      "execution_count": null,
      "metadata": {
        "id": "W2rBKCq2ctiu"
      },
      "outputs": [],
      "source": [
        "# Reshape the data to fit the model\n",
        "X_train = X_train.reshape(X_train.shape[0], 200, 200, 3)\n",
        "X_test = X_test.reshape(X_test.shape[0], 200, 200, 3)"
      ]
    },
    {
      "cell_type": "code",
      "execution_count": null,
      "metadata": {
        "colab": {
          "base_uri": "https://localhost:8080/"
        },
        "id": "7SnRi1yicwGR",
        "outputId": "5255f7d2-8432-428d-f4c1-a423fe29baf7"
      },
      "outputs": [
        {
          "name": "stderr",
          "output_type": "stream",
          "text": [
            "/usr/local/lib/python3.10/dist-packages/sklearn/preprocessing/_label.py:99: DataConversionWarning: A column-vector y was passed when a 1d array was expected. Please change the shape of y to (n_samples, ), for example using ravel().\n",
            "  y = column_or_1d(y, warn=True)\n",
            "/usr/local/lib/python3.10/dist-packages/sklearn/preprocessing/_label.py:134: DataConversionWarning: A column-vector y was passed when a 1d array was expected. Please change the shape of y to (n_samples, ), for example using ravel().\n",
            "  y = column_or_1d(y, dtype=self.classes_.dtype, warn=True)\n",
            "/usr/local/lib/python3.10/dist-packages/sklearn/preprocessing/_label.py:134: DataConversionWarning: A column-vector y was passed when a 1d array was expected. Please change the shape of y to (n_samples, ), for example using ravel().\n",
            "  y = column_or_1d(y, dtype=self.classes_.dtype, warn=True)\n"
          ]
        }
      ],
      "source": [
        "# One-hot encoding for the labels\n",
        "from sklearn.preprocessing import LabelEncoder\n",
        "from tensorflow.keras.utils import to_categorical\n",
        "\n",
        "encoder = LabelEncoder()\n",
        "encoder.fit(Y_train)\n",
        "Y_train = encoder.transform(Y_train)\n",
        "Y_test = encoder.transform(Y_test)\n",
        "\n",
        "Y_train = to_categorical(Y_train)\n",
        "Y_test = to_categorical(Y_test)"
      ]
    },
    {
      "cell_type": "code",
      "execution_count": null,
      "metadata": {
        "colab": {
          "base_uri": "https://localhost:8080/"
        },
        "id": "pWH67OMwnvfK",
        "outputId": "d2e1b1e6-22e7-4667-f6f6-b928b8d7d9d9"
      },
      "outputs": [
        {
          "name": "stdout",
          "output_type": "stream",
          "text": [
            "Model: \"sequential_1\"\n",
            "_________________________________________________________________\n",
            " Layer (type)                Output Shape              Param #   \n",
            "=================================================================\n",
            " conv2d_2 (Conv2D)           (None, 198, 198, 64)      1792      \n",
            "                                                                 \n",
            " max_pooling2d_2 (MaxPooling  (None, 99, 99, 64)       0         \n",
            " 2D)                                                             \n",
            "                                                                 \n",
            " conv2d_3 (Conv2D)           (None, 97, 97, 32)        18464     \n",
            "                                                                 \n",
            " max_pooling2d_3 (MaxPooling  (None, 48, 48, 32)       0         \n",
            " 2D)                                                             \n",
            "                                                                 \n",
            " flatten_2 (Flatten)         (None, 73728)             0         \n",
            "                                                                 \n",
            " dense_4 (Dense)             (None, 128)               9437312   \n",
            "                                                                 \n",
            " dropout_2 (Dropout)         (None, 128)               0         \n",
            "                                                                 \n",
            " dense_5 (Dense)             (None, 2)                 258       \n",
            "                                                                 \n",
            "=================================================================\n",
            "Total params: 9,457,826\n",
            "Trainable params: 9,457,826\n",
            "Non-trainable params: 0\n",
            "_________________________________________________________________\n"
          ]
        }
      ],
      "source": [
        "# Create the model\n",
        "model = Sequential()\n",
        "\n",
        "# Add model layers\n",
        "\n",
        "## first convolution layer: n1=64\n",
        "model.add(Conv2D(filters=64, kernel_size=3, activation='relu', kernel_initializer='he_uniform', input_shape=(200,200,3)))\n",
        "model.add(MaxPooling2D(pool_size=(2, 2)))\n",
        "\n",
        "## second convolution layer: n2=32\n",
        "model.add(Conv2D(filters=32, kernel_size=3, activation='relu', kernel_initializer='he_uniform'))\n",
        "model.add(MaxPooling2D(pool_size=(2, 2)))\n",
        "\n",
        "## single vector\n",
        "model.add(Flatten())\n",
        "\n",
        "## first fully connected layer: n3=128\n",
        "model.add(Dense(128, activation='relu', kernel_initializer='he_uniform'))\n",
        "\n",
        "## output layer: n4=2\n",
        "model.add(Dropout(0.5))\n",
        "model.add(Dense(2, activation='softmax'))\n",
        "\n",
        "model.summary()"
      ]
    },
    {
      "cell_type": "code",
      "execution_count": null,
      "metadata": {
        "colab": {
          "base_uri": "https://localhost:8080/"
        },
        "id": "xCr_dFjsjtDK",
        "outputId": "4e35bc66-33c1-4767-96f0-9965ae57c519"
      },
      "outputs": [
        {
          "name": "stdout",
          "output_type": "stream",
          "text": [
            "Epoch 1/10\n",
            "16/16 [==============================] - 3s 73ms/step - loss: 4.1056 - accuracy: 0.5100 - val_loss: 0.6921 - val_accuracy: 0.5520\n",
            "Epoch 2/10\n",
            "16/16 [==============================] - 1s 48ms/step - loss: 0.6832 - accuracy: 0.5980 - val_loss: 0.6775 - val_accuracy: 0.5440\n",
            "Epoch 3/10\n",
            "16/16 [==============================] - 1s 48ms/step - loss: 0.6199 - accuracy: 0.6860 - val_loss: 0.7471 - val_accuracy: 0.5920\n",
            "Epoch 4/10\n",
            "16/16 [==============================] - 1s 48ms/step - loss: 0.4436 - accuracy: 0.8140 - val_loss: 0.7434 - val_accuracy: 0.6000\n",
            "Epoch 5/10\n",
            "16/16 [==============================] - 1s 49ms/step - loss: 0.2918 - accuracy: 0.8780 - val_loss: 0.7844 - val_accuracy: 0.5760\n",
            "Epoch 6/10\n",
            "16/16 [==============================] - 1s 48ms/step - loss: 0.1353 - accuracy: 0.9640 - val_loss: 0.9768 - val_accuracy: 0.6160\n",
            "Epoch 7/10\n",
            "16/16 [==============================] - 1s 49ms/step - loss: 0.0533 - accuracy: 0.9840 - val_loss: 1.1566 - val_accuracy: 0.6720\n",
            "Epoch 8/10\n",
            "16/16 [==============================] - 1s 48ms/step - loss: 0.0322 - accuracy: 0.9960 - val_loss: 1.2957 - val_accuracy: 0.6400\n",
            "Epoch 9/10\n",
            "16/16 [==============================] - 1s 47ms/step - loss: 0.0207 - accuracy: 1.0000 - val_loss: 1.4861 - val_accuracy: 0.6240\n",
            "Epoch 10/10\n",
            "16/16 [==============================] - 1s 53ms/step - loss: 0.0259 - accuracy: 0.9980 - val_loss: 1.6901 - val_accuracy: 0.6480\n"
          ]
        }
      ],
      "source": [
        "# Compile the model\n",
        "model.compile(optimizer=Adam(), \n",
        "              loss='categorical_crossentropy', \n",
        "              metrics=['accuracy'])\n",
        "\n",
        "# Train the model\n",
        "history = model.fit(X_train, Y_train, validation_data=(X_test, Y_test), epochs=10)\n",
        "## default: batch_size=32"
      ]
    },
    {
      "cell_type": "code",
      "execution_count": null,
      "metadata": {
        "colab": {
          "base_uri": "https://localhost:8080/"
        },
        "id": "6KUuri0KpyWN",
        "outputId": "e1ecb3b5-a69b-4eb3-c9d7-c4152eb6f9d3"
      },
      "outputs": [
        {
          "data": {
            "image/png": "[encoded data removed]",
            "text/plain": [
              "<Figure size 800x800 with 2 Axes>"
            ]
          },
          "metadata": {},
          "output_type": "display_data"
        }
      ],
      "source": [
        "acc = history.history['accuracy']\n",
        "val_acc = history.history['val_accuracy']\n",
        "\n",
        "loss = history.history['loss']\n",
        "val_loss = history.history['val_loss']\n",
        "\n",
        "plt.figure(figsize=(8, 8))\n",
        "plt.subplot(2, 1, 1)\n",
        "plt.plot(acc, label='Training Accuracy')\n",
        "plt.plot(val_acc, label='Testing Accuracy')\n",
        "plt.legend(loc='lower right')\n",
        "plt.ylabel('Accuracy')\n",
        "plt.ylim([min(plt.ylim()),1])\n",
        "plt.title('Training and Testing Accuracy')\n",
        "\n",
        "plt.subplot(2, 1, 2)\n",
        "plt.plot(loss, label='Training Loss')\n",
        "plt.plot(val_loss, label='Testing Loss')\n",
        "plt.legend(loc='upper right')\n",
        "plt.ylabel('Cross Entropy')\n",
        "plt.ylim([0,1.0])\n",
        "plt.title('Training and Testing Loss')\n",
        "plt.xlabel('epoch')\n",
        "plt.show()"
      ]
    },
    {
      "cell_type": "code",
      "execution_count": null,
      "metadata": {
        "colab": {
          "base_uri": "https://localhost:8080/"
        },
        "id": "toiosjgapzc5",
        "outputId": "e49f9a76-d4ec-47ed-e1ef-4541cc1f9819"
      },
      "outputs": [
        {
          "name": "stdout",
          "output_type": "stream",
          "text": [
            "4/4 [==============================] - 0s 17ms/step - loss: 1.6901 - accuracy: 0.6480\n",
            "Test Accuracy:  0.6480000019073486\n"
          ]
        }
      ],
      "source": [
        "# Evaluate the model\n",
        "loss, accuracy = model.evaluate(X_test, Y_test)\n",
        "print(\"Test Accuracy: \", accuracy)"
      ]
    },
    {
      "cell_type": "markdown",
      "metadata": {
        "id": "TFlEPPfZhOYL"
      },
      "source": [
        "#### Transfer Learning"
      ]
    },
    {
      "cell_type": "code",
      "execution_count": null,
      "metadata": {
        "id": "IbpGgAOhJRXS"
      },
      "outputs": [],
      "source": [
        "from tensorflow.keras.applications import ResNet50\n",
        "from tensorflow.keras import layers, models, losses, Model"
      ]
    },
    {
      "cell_type": "code",
      "execution_count": null,
      "metadata": {
        "id": "eNalVfBeJRfy"
      },
      "outputs": [],
      "source": [
        "base_model = ResNet50(weights = 'imagenet', include_top = False, input_shape = (200,200,3))\n",
        "for layer in base_model.layers:\n",
        "    layer.trainable = False"
      ]
    },
    {
      "cell_type": "code",
      "execution_count": null,
      "metadata": {
        "id": "JVU37ApTJRiW"
      },
      "outputs": [],
      "source": [
        "x = Flatten()(base_model.output)\n",
        "x = Dense(128, activation='relu', kernel_initializer='he_uniform')(x)\n",
        "x = Dropout(0.5)(x)\n",
        "predictions = Dense(2, activation = 'softmax')(x)"
      ]
    },
    {
      "cell_type": "code",
      "execution_count": null,
      "metadata": {
        "id": "sh3bGvXnJRk9"
      },
      "outputs": [],
      "source": [
        "model2 = Model(inputs = base_model.input, outputs = predictions)\n",
        "model2.compile(optimizer='adam', \n",
        "               loss='categorical_crossentropy', \n",
        "               metrics=['accuracy'])"
      ]
    },
    {
      "cell_type": "code",
      "execution_count": null,
      "metadata": {
        "colab": {
          "base_uri": "https://localhost:8080/"
        },
        "id": "uglzUj92JRnj",
        "outputId": "a89f97e9-8bd5-468a-f289-cd25994cb3a2"
      },
      "outputs": [
        {
          "name": "stdout",
          "output_type": "stream",
          "text": [
            "Epoch 1/10\n",
            "16/16 [==============================] - 7s 202ms/step - loss: 5.6039 - accuracy: 0.4680 - val_loss: 0.6935 - val_accuracy: 0.4960\n",
            "Epoch 2/10\n",
            "16/16 [==============================] - 2s 103ms/step - loss: 0.7843 - accuracy: 0.4920 - val_loss: 0.6931 - val_accuracy: 0.5040\n",
            "Epoch 3/10\n",
            "16/16 [==============================] - 2s 102ms/step - loss: 0.6932 - accuracy: 0.5000 - val_loss: 0.6931 - val_accuracy: 0.5040\n",
            "Epoch 4/10\n",
            "16/16 [==============================] - 2s 106ms/step - loss: 0.7102 - accuracy: 0.5040 - val_loss: 0.6931 - val_accuracy: 0.5040\n",
            "Epoch 5/10\n",
            "16/16 [==============================] - 2s 129ms/step - loss: 0.6932 - accuracy: 0.5000 - val_loss: 0.6931 - val_accuracy: 0.5040\n",
            "Epoch 6/10\n",
            "16/16 [==============================] - 2s 127ms/step - loss: 0.6932 - accuracy: 0.5000 - val_loss: 0.6931 - val_accuracy: 0.5040\n",
            "Epoch 7/10\n",
            "16/16 [==============================] - 2s 104ms/step - loss: 0.6932 - accuracy: 0.5000 - val_loss: 0.6931 - val_accuracy: 0.5040\n",
            "Epoch 8/10\n",
            "16/16 [==============================] - 2s 126ms/step - loss: 0.6932 - accuracy: 0.5000 - val_loss: 0.6931 - val_accuracy: 0.5040\n",
            "Epoch 9/10\n",
            "16/16 [==============================] - 2s 105ms/step - loss: 0.6932 - accuracy: 0.5000 - val_loss: 0.6931 - val_accuracy: 0.5040\n",
            "Epoch 10/10\n",
            "16/16 [==============================] - 2s 125ms/step - loss: 0.6932 - accuracy: 0.5000 - val_loss: 0.6931 - val_accuracy: 0.5040\n"
          ]
        }
      ],
      "source": [
        "history2 = model2.fit(X_train, Y_train, validation_data=(X_test, Y_test), epochs=10, batch_size=32)"
      ]
    },
    {
      "cell_type": "code",
      "execution_count": null,
      "metadata": {
        "colab": {
          "base_uri": "https://localhost:8080/"
        },
        "id": "CnNj6OM2JRqC",
        "outputId": "f1403646-1948-4892-8e93-fe820084a792"
      },
      "outputs": [
        {
          "data": {
            "image/png": "[encoded data removed]",
            "text/plain": [
              "<Figure size 800x800 with 2 Axes>"
            ]
          },
          "metadata": {},
          "output_type": "display_data"
        }
      ],
      "source": [
        "acc = history2.history['accuracy']\n",
        "val_acc = history2.history['val_accuracy']\n",
        "\n",
        "loss = history2.history['loss']\n",
        "val_loss = history2.history['val_loss']\n",
        "\n",
        "plt.figure(figsize=(8, 8))\n",
        "plt.subplot(2, 1, 1)\n",
        "plt.plot(acc, label='Training')\n",
        "plt.plot(val_acc, label='Testing')\n",
        "plt.legend(loc='lower right')\n",
        "plt.ylabel('Accuracy')\n",
        "plt.ylim([min(plt.ylim()),1])\n",
        "plt.title('Training Accuracy vs Testing Accuracy')\n",
        "\n",
        "plt.subplot(2, 1, 2)\n",
        "plt.plot(loss, label='Training')\n",
        "plt.plot(val_loss, label='Testing')\n",
        "plt.legend(loc='upper right')\n",
        "plt.ylabel('Cross Entropy')\n",
        "plt.ylim([0,1.0])\n",
        "plt.title('Training Loss vs Testing Loss')\n",
        "plt.xlabel('epoch')\n",
        "plt.show()"
      ]
    },
    {
      "cell_type": "code",
      "execution_count": null,
      "metadata": {
        "colab": {
          "base_uri": "https://localhost:8080/"
        },
        "id": "yL13CPDZJRsZ",
        "outputId": "92c14fca-cd44-40fe-fddc-36aadc4e5178"
      },
      "outputs": [
        {
          "name": "stdout",
          "output_type": "stream",
          "text": [
            "4/4 [==============================] - 0s 85ms/step - loss: 0.6931 - accuracy: 0.5040\n",
            "Test Accuracy:  0.5040000081062317\n"
          ]
        }
      ],
      "source": [
        "loss2, accuracy2 = model2.evaluate(X_test, Y_test)\n",
        "print(\"Test Accuracy: \", accuracy2)"
      ]
    },
    {
      "cell_type": "markdown",
      "metadata": {
        "id": "OV9lGP4wnf6L"
      },
      "source": [
        "### ROC Curves"
      ]
    },
    {
      "cell_type": "code",
      "execution_count": null,
      "metadata": {
        "id": "nSmrmnCqngWB"
      },
      "outputs": [],
      "source": [
        "from sklearn.metrics import roc_curve\n",
        "from sklearn.metrics import auc"
      ]
    },
    {
      "cell_type": "code",
      "execution_count": null,
      "metadata": {
        "id": "8KQUaiKFngd9"
      },
      "outputs": [],
      "source": [
        "# random forest\n",
        "rf_y_pred_prob = best_RF_model.predict_proba(X_test)[:,1] \n",
        "rf_fpr, rf_tpr, rf_thresholds = roc_curve(y_test, rf_y_pred_prob)\n",
        "rf_auc = auc(rf_fpr, rf_tpr)"
      ]
    },
    {
      "cell_type": "code",
      "execution_count": null,
      "metadata": {
        "id": "O7qkMzY8nghD"
      },
      "outputs": [],
      "source": [
        "# kernel svm\n",
        "svm_y_pred_prob = best_SVM_model.decision_function(X_test)\n",
        "svm_fpr, svm_tpr, svm_thresholds = roc_curve(y_test, svm_y_pred_prob)\n",
        "svm_auc = auc(svm_fpr, svm_tpr)"
      ]
    },
    {
      "cell_type": "code",
      "execution_count": null,
      "metadata": {
        "colab": {
          "base_uri": "https://localhost:8080/"
        },
        "id": "6YQ5HGP8ngjz",
        "outputId": "f99b5d3d-2243-4df8-9391-bc17177f0129"
      },
      "outputs": [
        {
          "name": "stdout",
          "output_type": "stream",
          "text": [
            "4/4 [==============================] - 0s 15ms/step\n"
          ]
        }
      ],
      "source": [
        "# cnn\n",
        "cnn_y_pred_prob = model.predict(X_test)[:,1]\n",
        "cnn_fpr, cnn_tpr, cnn_threshold = roc_curve(y_test, cnn_y_pred_prob)\n",
        "cnn_auc = auc(cnn_fpr, cnn_tpr)"
      ]
    },
    {
      "cell_type": "code",
      "execution_count": null,
      "metadata": {
        "colab": {
          "base_uri": "https://localhost:8080/"
        },
        "id": "-HNo1gwwngmi",
        "outputId": "cf7c8a39-c8c2-4773-a483-f85c5777f7d2"
      },
      "outputs": [
        {
          "name": "stdout",
          "output_type": "stream",
          "text": [
            "4/4 [==============================] - 3s 106ms/step\n"
          ]
        }
      ],
      "source": [
        "# transfer learning \n",
        "tl_y_pred_prob = model2.predict(X_test)[:,1]\n",
        "tl_fpr, tl_tpr, tl_threshold = roc_curve(y_test, tl_y_pred_prob)\n",
        "tl_auc = auc(tl_fpr, tl_tpr)"
      ]
    },
    {
      "cell_type": "code",
      "execution_count": null,
      "metadata": {
        "colab": {
          "base_uri": "https://localhost:8080/",
          "height": 472
        },
        "id": "WfYSrp3FngpA",
        "outputId": "a7c1b9cf-7e58-41e1-d567-765a5303e0e8"
      },
      "outputs": [
        {
          "data": {
            "image/png": "[encoded data removed]",
            "text/plain": [
              "<Figure size 640x480 with 1 Axes>"
            ]
          },
          "metadata": {},
          "output_type": "display_data"
        }
      ],
      "source": [
        "plt.figure()\n",
        "plt.plot(rf_fpr, rf_tpr, label='Random Forest (area = %0.2f)' % rf_auc)\n",
        "plt.plot(svm_fpr, svm_tpr, label='Kernel SVM (area = %0.2f)' % svm_auc)\n",
        "plt.plot(cnn_fpr, cnn_tpr, label='CNN (area = %0.2f)' % cnn_auc)\n",
        "plt.plot(tl_fpr, tl_tpr, label='Transfer Learning (area = %0.2f)' % tl_auc)\n",
        "plt.plot([0, 1], [0, 1],'k--')\n",
        "plt.xlim([0.0, 1.0])\n",
        "plt.ylim([0.0, 1.0])\n",
        "plt.xlabel('False Positive Rate')\n",
        "plt.ylabel('True Positive Rate')\n",
        "plt.title('ROC curves for predicting poisonous mushrooms')\n",
        "plt.legend(loc=\"lower right\")\n",
        "plt.show()"
      ]
    }
  ],
  "metadata": {
    "accelerator": "GPU",
    "colab": {
      "collapsed_sections": [
        "fhuoonDpNVvJ",
        "W4X4Gn0Jg5ll",
        "ohuokKGoPgeT",
        "8RzEm8f25Cit",
        "fo3o1efYC_DM",
        "LeqTWbbwLvUL",
        "T9K1bQVfnz1N"
      ],
      "gpuType": "T4",
      "provenance": []
    },
    "kernelspec": {
      "display_name": "Python 3",
      "name": "python3"
    },
    "language_info": {
      "name": "python"
    }
  },
  "nbformat": 4,
  "nbformat_minor": 0
}
